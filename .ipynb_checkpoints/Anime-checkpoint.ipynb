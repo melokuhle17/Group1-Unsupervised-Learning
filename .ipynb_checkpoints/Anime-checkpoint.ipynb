{
 "cells": [
  {
   "cell_type": "markdown",
   "metadata": {},
   "source": [
    "<div align=\"center\">\n",
    "  \n",
    "# **Anime Recommender System using Unsupervised Learning**  \n",
    "\n",
    "</div>\n"
   ]
  },
  {
   "cell_type": "markdown",
   "metadata": {},
   "source": [
    "## **Table of Contents**\n",
    "- [Introduction](#1-Introduction)  \n",
    "  - [Problem Statement](#11-Problem-Statement)  \n",
    "  - [Objectives](#12-Objectives)  \n",
    "- [Importing Packages](#2-Importing-Packages)  \n",
    "- [Data Loading and Inspection](#3-Data-Loading-and-Inspection)  \n",
    "- [Data Cleaning](#4-Data-Cleaning)  \n",
    "- [Exploratory Data Analysis (EDA)](#5-Exploratory-Data-Analysis-EDA)  \n",
    "- [Data Preprocessing](#6-Data-Preprocessing)  \n",
    "- [Model Development](#7-Model-Development)  \n",
    "- [Model Evaluation](#8-Model-Evaluation)  \n",
    "- [Model Deployment](#9-Model-Deployment)  \n",
    "- [Conclusion and Recommendations](#10-Conclusion-and-Recommendations)  \n",
    "- [References](#11-References)  \n"
   ]
  },
  {
   "cell_type": "markdown",
   "metadata": {},
   "source": [
    "\n",
    "## **1. Introduction**  \n",
    "\n",
    "### **1.1 Problem Statement**  \n",
    "With the rapid growth of anime streaming platforms, users often struggle to find new anime that align with their preferences. A **recommender system** can help solve this problem by analyzing user-anime interactions and suggesting relevant content.  \n",
    "\n",
    "In this project, we will develop an **unsupervised learning-based anime recommender system** using clustering techniques. The goal is to provide **personalized recommendations** based on user behavior and anime attributes.\n",
    "\n",
    "### **1.2 Objectives**  \n",
    "- Develop an **unsupervised learning** model to recommend anime based on user preferences.  \n",
    "- Perform **data cleaning, preprocessing, and exploratory data analysis (EDA)** to understand patterns in the dataset.  \n",
    "- Implement **clustering algorithms** (e.g., K-Means, DBSCAN) for grouping similar anime.  \n",
    "- Evaluate the performance of the recommendation system.  \n",
    "- Submit predictions to the **Kaggle Challenge Leaderboard** for evaluation.  \n",
    "\n"
   ]
  },
  {
   "cell_type": "markdown",
   "metadata": {},
   "source": [
    "## **2. Importing Packages**  \n",
    "\n",
    "In this section, we import the necessary packages to execute our data science workflow. These packages include essential tools for **data manipulation, visualization, preprocessing, and machine learning**.  \n",
    "\n",
    "\n"
   ]
  },
  {
   "cell_type": "markdown",
   "metadata": {},
   "source": [
    "### **2.1 Basic Packages**  \n",
    "These fundamental libraries help with numerical computations and data handling.  "
   ]
  },
  {
   "cell_type": "code",
   "execution_count": 4,
   "metadata": {
    "vscode": {
     "languageId": "plaintext"
    }
   },
   "outputs": [],
   "source": [
    "# import packages\n",
    "import pandas as pd\n",
    "import numpy as np\n",
    "import matplotlib.pyplot as plt\n",
    "import seaborn as sns\n",
    "import re\n",
    "import warnings\n",
    "from collections import Counter\n",
    "import pandas as pd\n",
    "import os\n",
    "import seaborn as sns\n",
    "from nltk.tokenize import word_tokenize, TreebankWordTokenizer\n",
    "import nltk\n",
    "from nltk.stem import WordNetLemmatizer\n",
    "\n",
    "# Configure settings\n",
    "%matplotlib inline\n",
    "warnings.filterwarnings(\"ignore\")"
   ]
  },
  {
   "cell_type": "markdown",
   "metadata": {},
   "source": [
    "## **3. Data Loading and Inspection**  \n",
    "\n",
    "In this section, we will load the datasets required to build and evaluate our recommender system. By inspecting the structure of the data, we can gain insights into its quality and completeness. This will guide our **data cleaning process** to ensure consistency and accuracy in our analysis.\n",
    "\n"
   ]
  },
  {
   "cell_type": "markdown",
   "metadata": {},
   "source": [
    "### **3.1 Data Loading**  \n",
    "The datasets are sourced from a **Kaggle competition** and stored as CSV files. We will read them into **Pandas DataFrames** for easier manipulation.\n"
   ]
  },
  {
   "cell_type": "code",
   "execution_count": 5,
   "metadata": {
    "vscode": {
     "languageId": "plaintext"
    }
   },
   "outputs": [
    {
     "name": "stdout",
     "output_type": "stream",
     "text": [
      "Data loaded successfully!\n"
     ]
    }
   ],
   "source": [
    "\n",
    "# Load datasets\n",
    "anime_df = pd.read_csv(\"anime.csv\")\n",
    "submission_df = pd.read_csv(\"submission.csv\")\n",
    "test_df = pd.read_csv(\"test.csv\")\n",
    "train_df = pd.read_csv(\"train.csv\")\n",
    "\n",
    "# Display a message to confirm data loading\n",
    "print(\"Data loaded successfully!\")\n"
   ]
  },
  {
   "cell_type": "markdown",
   "metadata": {},
   "source": [
    "We will duplicate our anime dataset to avoid contaminating the original data set"
   ]
  },
  {
   "cell_type": "code",
   "execution_count": 6,
   "metadata": {},
   "outputs": [],
   "source": [
    "anime_df1 = pd.read_csv(\"anime.csv\")\n",
    "anime_df2 = pd.read_csv(\"anime.csv\")"
   ]
  },
  {
   "cell_type": "markdown",
   "metadata": {},
   "source": [
    "### 3.2. Data Inspection: Anime Dataset\n",
    "This section inspects the structure and quality of the anime dataset. We will check for missing values, duplicate rows, column naming conventions, and overall data quality.\n",
    "\n",
    "\n",
    "#### 3.2.1. Data Overview\n",
    "##### Overview of Anime Data, Train Data, and Test Data\n",
    "- **Anime.csv**: Contains information about anime content, including ID, name, genre, type, episodes, average rating, and members count.\n",
    "- **Train.csv**: User ratings of anime titles, containing user ID, anime ID, and rating (can be -1 if not rated).\n",
    "- **Test.csv**: User ID and anime ID combinations for which ratings need to be predicted.\n",
    "\n",
    "\n"
   ]
  },
  {
   "cell_type": "code",
   "execution_count": 7,
   "metadata": {
    "vscode": {
     "languageId": "plaintext"
    }
   },
   "outputs": [
    {
     "name": "stdout",
     "output_type": "stream",
     "text": [
      "<class 'pandas.core.frame.DataFrame'>\n",
      "RangeIndex: 12294 entries, 0 to 12293\n",
      "Data columns (total 7 columns):\n",
      " #   Column    Non-Null Count  Dtype  \n",
      "---  ------    --------------  -----  \n",
      " 0   anime_id  12294 non-null  int64  \n",
      " 1   name      12294 non-null  object \n",
      " 2   genre     12232 non-null  object \n",
      " 3   type      12269 non-null  object \n",
      " 4   episodes  12294 non-null  object \n",
      " 5   rating    12064 non-null  float64\n",
      " 6   members   12294 non-null  int64  \n",
      "dtypes: float64(1), int64(2), object(4)\n",
      "memory usage: 672.5+ KB\n"
     ]
    }
   ],
   "source": [
    "anime_df.info()"
   ]
  },
  {
   "cell_type": "markdown",
   "metadata": {},
   "source": [
    "## 4. Data Cleaning"
   ]
  },
  {
   "cell_type": "markdown",
   "metadata": {},
   "source": [
    "In this section we will be looking for missing values, duplicated entries and errornous entries,then necessary actions will be taken if any of those are encountered"
   ]
  },
  {
   "cell_type": "code",
   "execution_count": 8,
   "metadata": {},
   "outputs": [
    {
     "data": {
      "text/plain": [
       "0"
      ]
     },
     "execution_count": 8,
     "metadata": {},
     "output_type": "execute_result"
    }
   ],
   "source": [
    "sum(anime_df.duplicated())"
   ]
  },
  {
   "cell_type": "code",
   "execution_count": 9,
   "metadata": {},
   "outputs": [
    {
     "data": {
      "text/plain": [
       "anime_id      0\n",
       "name          0\n",
       "genre        62\n",
       "type         25\n",
       "episodes      0\n",
       "rating      230\n",
       "members       0\n",
       "dtype: int64"
      ]
     },
     "execution_count": 9,
     "metadata": {},
     "output_type": "execute_result"
    }
   ],
   "source": [
    "anime_df.isnull().sum()"
   ]
  },
  {
   "cell_type": "markdown",
   "metadata": {},
   "source": [
    "genre,type and rating consist of 62,25 and 230 null entries  respectively. Our solutions will be as follows:\n",
    "1. For genere: The genre with the highest frequency in a specific type will be serve as our mode.Tokenization method will be used to attain this information. This mode will be replaced in empty genre column corrsponding to the correct type\n",
    "2. For type: The type with the highest frequency will be the mode and it will fill the null values in the column\n",
    "3. For rating: An average per type will be calculated and then substitute the null values"
   ]
  },
  {
   "cell_type": "code",
   "execution_count": 12,
   "metadata": {},
   "outputs": [],
   "source": [
    "anime_df1['train_genre'] = (\n",
    "    anime_df1['genre'] + \" \" \n",
    ")\n",
    "anime_df2['train_name'] = (\n",
    "    anime_df2['name'] + \" \")"
   ]
  },
  {
   "cell_type": "code",
   "execution_count": 13,
   "metadata": {},
   "outputs": [],
   "source": [
    "import re\n",
    "\n",
    "def clean_text(text):\n",
    "    text = str(text) \n",
    "    text = text.lower()  # Convert all characters to lowercase\n",
    "    text = re.sub(r'\\d+', '', text)  # Remove all digits\n",
    "    text = re.sub(r'\\s+', ' ', text)  # Replace multiple spaces with a single space\n",
    "    text = re.sub(r'[^\\w\\s]', '', text)  # Remove punctuation and special characters\n",
    "    return text\n",
    "\n",
    "anime_df1['cleaned_genre'] = anime_df1['train_genre'].apply(clean_text)\n",
    "anime_df2['cleaned_name'] = anime_df2['train_name'].apply(clean_text)\n"
   ]
  },
  {
   "cell_type": "markdown",
   "metadata": {},
   "source": [
    "## 4.1 Tokenization to find modes"
   ]
  },
  {
   "cell_type": "code",
   "execution_count": 14,
   "metadata": {},
   "outputs": [],
   "source": [
    "tokeniser = TreebankWordTokenizer()\n",
    "anime_df1['genre_tokens'] = anime_df1['cleaned_genre'].apply(tokeniser.tokenize)\n",
    "anime_df2['name_tokens'] = anime_df2['cleaned_name'].apply(tokeniser.tokenize)"
   ]
  },
  {
   "cell_type": "code",
   "execution_count": 43,
   "metadata": {},
   "outputs": [
    {
     "data": {
      "image/png": "[encoded data removed]",
      "text/plain": [
       "<Figure size 1600x1200 with 6 Axes>"
      ]
     },
     "metadata": {},
     "output_type": "display_data"
    }
   ],
   "source": [
    "from collections import Counter\n",
    "\n",
    "# Function to get top N words in a category\n",
    "def get_top_genre(type1, n=3):\n",
    "    type_tokens = anime_df1[anime_df1['type'] == type1]['genre_tokens'].explode().tolist()\n",
    "    word_counts = Counter(type_tokens)\n",
    "    return word_counts.most_common(n)\n",
    "\n",
    "# Plot top 10 words for each category\n",
    "types= anime_df1['type'].unique()\n",
    "num_types = len(types)\n",
    "\n",
    "plt.figure(figsize=(16, 4 * (num_types // 3 + 1)))  # Adjust height dynamically\n",
    "\n",
    "for i, type1 in enumerate(types, 1):\n",
    "    plt.subplot((num_types // 3) + 1, 3, i)\n",
    "    top_words = get_top_genre(type1)\n",
    "    \n",
    "    if not top_words:\n",
    "        continue  # Skip empty categories\n",
    "    \n",
    "    words, counts = zip(*top_words)\n",
    "    sns.barplot(x=list(counts), y=list(words), palette='coolwarm')\n",
    "    \n",
    "    plt.title(f'Top 3 Genres in {type1.capitalize()}')\n",
    "    plt.xlabel('Frequency')\n",
    "    plt.ylabel('Words')\n",
    "\n",
    "plt.tight_layout()\n",
    "plt.show()\n"
   ]
  },
  {
   "cell_type": "markdown",
   "metadata": {},
   "source": [
    "The above plot displays the top 3 genres per type. The highest genre per type will be the mode for that specific type"
   ]
  },
  {
   "cell_type": "code",
   "execution_count": 23,
   "metadata": {},
   "outputs": [
    {
     "name": "stdout",
     "output_type": "stream",
     "text": [
      "The most frequent type is 'TV' with 3787 occurrences.\n"
     ]
    }
   ],
   "source": [
    "most_frequent_type = anime_df1['type'].value_counts().idxmax()\n",
    "most_frequent_count = anime_df1['type'].value_counts().max()\n",
    "print(f\"The most frequent type is '{most_frequent_type}' with {most_frequent_count} occurrences.\")"
   ]
  },
  {
   "cell_type": "markdown",
   "metadata": {},
   "source": [
    "TV is the type with the highest frequency. TV is our mode in this case"
   ]
  },
  {
   "cell_type": "code",
   "execution_count": 28,
   "metadata": {},
   "outputs": [
    {
     "name": "stdout",
     "output_type": "stream",
     "text": [
      "           rating\n",
      "type             \n",
      "Movie    6.318058\n",
      "Music    5.588996\n",
      "ONA      5.643298\n",
      "OVA      6.375221\n",
      "Special  6.523501\n",
      "TV       6.902299\n"
     ]
    }
   ],
   "source": [
    "#Calculate the average rating per type\n",
    "average_per_type = anime_df1.groupby('type')[['rating']].mean()\n",
    "print(average_per_type)"
   ]
  },
  {
   "cell_type": "markdown",
   "metadata": {},
   "source": [
    "## 4.2 Replacing Nulls"
   ]
  },
  {
   "cell_type": "code",
   "execution_count": 39,
   "metadata": {},
   "outputs": [],
   "source": [
    "#Replace Null-genre entries\n",
    "anime_df['genre'] = anime_df.apply(lambda row: 'Comedy' if row['type'] == 'Movie' and (not row['genre'] or pd.isna(row['genre'])) else row['genre'], axis=1)\n",
    "anime_df['genre'] = anime_df.apply(lambda row: 'Comedy' if row['type'] == 'TV' and (not row['genre'] or pd.isna(row['genre'])) else row['genre'], axis=1)\n",
    "anime_df['genre'] = anime_df.apply(lambda row: 'Hentai' if row['type'] == 'OVA' and (not row['genre'] or pd.isna(row['genre'])) else row['genre'], axis=1)\n",
    "anime_df['genre'] = anime_df.apply(lambda row: 'Comedy' if row['type'] == 'Special' and (not row['genre'] or pd.isna(row['genre'])) else row['genre'], axis=1)\n",
    "anime_df['genre'] = anime_df.apply(lambda row: 'Music' if row['type'] == 'Music' and (not row['genre'] or pd.isna(row['genre'])) else row['genre'], axis=1)\n",
    "anime_df['genre'] = anime_df.apply(lambda row: 'Comedy' if row['type'] == 'ONA' and (not row['genre'] or pd.isna(row['genre'])) else row['genre'], axis=1)"
   ]
  },
  {
   "cell_type": "code",
   "execution_count": 40,
   "metadata": {},
   "outputs": [],
   "source": [
    "#Replace Null-type entries\n",
    "anime_df['type'] = anime_df['type'].replace('', 'TV').fillna('TV')"
   ]
  },
  {
   "cell_type": "code",
   "execution_count": 41,
   "metadata": {},
   "outputs": [],
   "source": [
    "#Replace Null-ratings entries\n",
    "average_rating_per_type = anime_df.groupby('type')['rating'].transform('mean')\n",
    "\n",
    "anime_df['rating'] = anime_df['rating'].fillna(average_rating_per_type)\n",
    "\n"
   ]
  },
  {
   "cell_type": "code",
   "execution_count": 42,
   "metadata": {},
   "outputs": [
    {
     "data": {
      "text/plain": [
       "anime_id    0\n",
       "name        0\n",
       "genre       0\n",
       "type        0\n",
       "episodes    0\n",
       "rating      0\n",
       "members     0\n",
       "dtype: int64"
      ]
     },
     "execution_count": 42,
     "metadata": {},
     "output_type": "execute_result"
    }
   ],
   "source": [
    "anime_df.isnull().sum()"
   ]
  },
  {
   "cell_type": "markdown",
   "metadata": {},
   "source": [
    "YAY!!!There are no missing values anymore"
   ]
  },
  {
   "cell_type": "markdown",
   "metadata": {},
   "source": [
    "### 4.3 Text Cleaning:Name column"
   ]
  },
  {
   "cell_type": "code",
   "execution_count": 44,
   "metadata": {},
   "outputs": [
    {
     "name": "stderr",
     "output_type": "stream",
     "text": [
      "[nltk_data] Downloading package stopwords to\n",
      "[nltk_data]     C:\\Users\\User\\AppData\\Roaming\\nltk_data...\n",
      "[nltk_data]   Package stopwords is already up-to-date!\n"
     ]
    },
    {
     "data": {
      "text/html": [
       "<div>\n",
       "<style scoped>\n",
       "    .dataframe tbody tr th:only-of-type {\n",
       "        vertical-align: middle;\n",
       "    }\n",
       "\n",
       "    .dataframe tbody tr th {\n",
       "        vertical-align: top;\n",
       "    }\n",
       "\n",
       "    .dataframe thead th {\n",
       "        text-align: right;\n",
       "    }\n",
       "</style>\n",
       "<table border=\"1\" class=\"dataframe\">\n",
       "  <thead>\n",
       "    <tr style=\"text-align: right;\">\n",
       "      <th></th>\n",
       "      <th>anime_id</th>\n",
       "      <th>name</th>\n",
       "      <th>genre</th>\n",
       "      <th>type</th>\n",
       "      <th>episodes</th>\n",
       "      <th>rating</th>\n",
       "      <th>members</th>\n",
       "      <th>train_name</th>\n",
       "      <th>cleaned_name</th>\n",
       "      <th>name_tokens</th>\n",
       "    </tr>\n",
       "  </thead>\n",
       "  <tbody>\n",
       "    <tr>\n",
       "      <th>0</th>\n",
       "      <td>32281</td>\n",
       "      <td>Kimi no Na wa.</td>\n",
       "      <td>Drama, Romance, School, Supernatural</td>\n",
       "      <td>Movie</td>\n",
       "      <td>1</td>\n",
       "      <td>9.37</td>\n",
       "      <td>200630</td>\n",
       "      <td>Kimi no Na wa.</td>\n",
       "      <td>kimi no na wa</td>\n",
       "      <td>[kimi, na, wa]</td>\n",
       "    </tr>\n",
       "    <tr>\n",
       "      <th>1</th>\n",
       "      <td>5114</td>\n",
       "      <td>Fullmetal Alchemist: Brotherhood</td>\n",
       "      <td>Action, Adventure, Drama, Fantasy, Magic, Mili...</td>\n",
       "      <td>TV</td>\n",
       "      <td>64</td>\n",
       "      <td>9.26</td>\n",
       "      <td>793665</td>\n",
       "      <td>Fullmetal Alchemist: Brotherhood</td>\n",
       "      <td>fullmetal alchemist brotherhood</td>\n",
       "      <td>[fullmetal, alchemist, brotherhood]</td>\n",
       "    </tr>\n",
       "    <tr>\n",
       "      <th>2</th>\n",
       "      <td>28977</td>\n",
       "      <td>Gintama°</td>\n",
       "      <td>Action, Comedy, Historical, Parody, Samurai, S...</td>\n",
       "      <td>TV</td>\n",
       "      <td>51</td>\n",
       "      <td>9.25</td>\n",
       "      <td>114262</td>\n",
       "      <td>Gintama°</td>\n",
       "      <td>gintama</td>\n",
       "      <td>[gintama]</td>\n",
       "    </tr>\n",
       "    <tr>\n",
       "      <th>3</th>\n",
       "      <td>9253</td>\n",
       "      <td>Steins;Gate</td>\n",
       "      <td>Sci-Fi, Thriller</td>\n",
       "      <td>TV</td>\n",
       "      <td>24</td>\n",
       "      <td>9.17</td>\n",
       "      <td>673572</td>\n",
       "      <td>Steins;Gate</td>\n",
       "      <td>steinsgate</td>\n",
       "      <td>[steinsgate]</td>\n",
       "    </tr>\n",
       "    <tr>\n",
       "      <th>4</th>\n",
       "      <td>9969</td>\n",
       "      <td>Gintama&amp;#039;</td>\n",
       "      <td>Action, Comedy, Historical, Parody, Samurai, S...</td>\n",
       "      <td>TV</td>\n",
       "      <td>51</td>\n",
       "      <td>9.16</td>\n",
       "      <td>151266</td>\n",
       "      <td>Gintama&amp;#039;</td>\n",
       "      <td>gintama</td>\n",
       "      <td>[gintama]</td>\n",
       "    </tr>\n",
       "  </tbody>\n",
       "</table>\n",
       "</div>"
      ],
      "text/plain": [
       "   anime_id                              name  \\\n",
       "0     32281                    Kimi no Na wa.   \n",
       "1      5114  Fullmetal Alchemist: Brotherhood   \n",
       "2     28977                          Gintama°   \n",
       "3      9253                       Steins;Gate   \n",
       "4      9969                     Gintama&#039;   \n",
       "\n",
       "                                               genre   type episodes  rating  \\\n",
       "0               Drama, Romance, School, Supernatural  Movie        1    9.37   \n",
       "1  Action, Adventure, Drama, Fantasy, Magic, Mili...     TV       64    9.26   \n",
       "2  Action, Comedy, Historical, Parody, Samurai, S...     TV       51    9.25   \n",
       "3                                   Sci-Fi, Thriller     TV       24    9.17   \n",
       "4  Action, Comedy, Historical, Parody, Samurai, S...     TV       51    9.16   \n",
       "\n",
       "   members                         train_name  \\\n",
       "0   200630                    Kimi no Na wa.    \n",
       "1   793665  Fullmetal Alchemist: Brotherhood    \n",
       "2   114262                          Gintama°    \n",
       "3   673572                       Steins;Gate    \n",
       "4   151266                     Gintama&#039;    \n",
       "\n",
       "                       cleaned_name                          name_tokens  \n",
       "0                    kimi no na wa                        [kimi, na, wa]  \n",
       "1  fullmetal alchemist brotherhood   [fullmetal, alchemist, brotherhood]  \n",
       "2                          gintama                             [gintama]  \n",
       "3                       steinsgate                          [steinsgate]  \n",
       "4                          gintama                             [gintama]  "
      ]
     },
     "execution_count": 44,
     "metadata": {},
     "output_type": "execute_result"
    }
   ],
   "source": [
    "from nltk.corpus import stopwords\n",
    "from nltk.corpus import stopwords\n",
    "nltk.download('stopwords')  # Download stopword data\n",
    "\n",
    "stop_words = set(stopwords.words('english'))\n",
    "\n",
    "# Remove stopwords for train\n",
    "anime_df2['name_tokens'] = anime_df2['name_tokens'].apply(lambda tokens: [word for word in tokens if word.lower() not in stop_words])\n",
    "anime_df2.head()"
   ]
  },
  {
   "cell_type": "markdown",
   "metadata": {},
   "source": [
    "Now all the irrelevent words on name column are removed"
   ]
  },
  {
   "cell_type": "code",
   "execution_count": null,
   "metadata": {},
   "outputs": [],
   "source": []
  }
 ],
 "metadata": {
  "kernelspec": {
   "display_name": "Python 3 (ipykernel)",
   "language": "python",
   "name": "python3"
  },
  "language_info": {
   "codemirror_mode": {
    "name": "ipython",
    "version": 3
   },
   "file_extension": ".py",
   "mimetype": "text/x-python",
   "name": "python",
   "nbconvert_exporter": "python",
   "pygments_lexer": "ipython3",
   "version": "3.12.7"
  }
 },
 "nbformat": 4,
 "nbformat_minor": 4
}
