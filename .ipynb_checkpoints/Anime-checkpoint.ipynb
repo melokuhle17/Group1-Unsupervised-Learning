{
 "cells": [
  {
   "cell_type": "markdown",
   "metadata": {},
   "source": [
    "<div align=\"center\">\n",
    "  \n",
    "# **Anime Recommender System using Unsupervised Learning**  \n",
    "\n",
    "</div>\n"
   ]
  },
  {
   "cell_type": "markdown",
   "metadata": {},
   "source": [
    "## **Table of Contents**\n",
    "- [Introduction](#1-Introduction)  \n",
    "  - [Problem Statement](#11-Problem-Statement)  \n",
    "  - [Objectives](#12-Objectives)  \n",
    "- [Importing Packages](#2-Importing-Packages)  \n",
    "- [Data Loading and Inspection](#3-Data-Loading-and-Inspection)  \n",
    "- [Data Cleaning](#4-Data-Cleaning)  \n",
    "- [Exploratory Data Analysis (EDA)](#5-Exploratory-Data-Analysis-EDA)  \n",
    "- [Data Preprocessing](#6-Data-Preprocessing)  \n",
    "- [Model Development](#7-Model-Development)  \n",
    "- [Model Evaluation](#8-Model-Evaluation)  \n",
    "- [Model Deployment](#9-Model-Deployment)  \n",
    "- [Conclusion and Recommendations](#10-Conclusion-and-Recommendations)  \n",
    "- [References](#11-References)  \n"
   ]
  },
  {
   "cell_type": "markdown",
   "metadata": {},
   "source": [
    "\n",
    "## **1. Introduction**  \n",
    "\n",
    "### **1.1 Problem Statement**  \n",
    "With the rapid growth of anime streaming platforms, users often struggle to find new anime that align with their preferences. A **recommender system** can help solve this problem by analyzing user-anime interactions and suggesting relevant content.  \n",
    "\n",
    "In this project, we will develop an **unsupervised learning-based anime recommender system** using clustering techniques. The goal is to provide **personalized recommendations** based on user behavior and anime attributes.\n",
    "\n",
    "### **1.2 Objectives**  \n",
    "- Develop an **unsupervised learning** model to recommend anime based on user preferences.  \n",
    "- Perform **data cleaning, preprocessing, and exploratory data analysis (EDA)** to understand patterns in the dataset.  \n",
    "- Implement **clustering algorithms** (e.g., K-Means, DBSCAN) for grouping similar anime.  \n",
    "- Evaluate the performance of the recommendation system.  \n",
    "- Submit predictions to the **Kaggle Challenge Leaderboard** for evaluation.  \n",
    "\n"
   ]
  },
  {
   "cell_type": "markdown",
   "metadata": {},
   "source": [
    "## **2. Importing Packages**  \n",
    "\n",
    "In this section, we import the necessary packages to execute our data science workflow. These packages include essential tools for **data manipulation, visualization, preprocessing, and machine learning**.  \n",
    "\n",
    "\n"
   ]
  },
  {
   "cell_type": "markdown",
   "metadata": {},
   "source": [
    "### **2.1 Basic Packages**  \n",
    "These fundamental libraries help with numerical computations and data handling.  "
   ]
  },
  {
   "cell_type": "code",
   "execution_count": null,
   "metadata": {
    "vscode": {
     "languageId": "plaintext"
    }
   },
   "outputs": [],
   "source": [
    "# import packages\n",
    "import pandas as pd\n",
    "import numpy as np\n",
    "import matplotlib.pyplot as plt\n",
    "import seaborn as sns\n",
    "import re\n",
    "import warnings\n",
    "from collections import Counter\n",
    "\n",
    "# Configure settings\n",
    "%matplotlib inline\n",
    "warnings.filterwarnings(\"ignore\")"
   ]
  },
  {
   "cell_type": "markdown",
   "metadata": {},
   "source": [
    "## **3. Data Loading and Inspection**  \n",
    "\n",
    "In this section, we will load the datasets required to build and evaluate our recommender system. By inspecting the structure of the data, we can gain insights into its quality and completeness. This will guide our **data cleaning process** to ensure consistency and accuracy in our analysis.\n",
    "\n"
   ]
  },
  {
   "cell_type": "markdown",
   "metadata": {},
   "source": [
    "### **3.1 Data Loading**  \n",
    "The datasets are sourced from a **Kaggle competition** and stored as CSV files. We will read them into **Pandas DataFrames** for easier manipulation.\n"
   ]
  },
  {
   "cell_type": "code",
   "execution_count": null,
   "metadata": {
    "vscode": {
     "languageId": "plaintext"
    }
   },
   "outputs": [],
   "source": [
    "\n",
    "# Paths to the CSV files\n",
    "anime_path = \"Data/anime.csv\"\n",
    "ratings_path = \"Data/ratings.csv\"\n",
    "test_path = \"Data/test.csv\"\n",
    "train_path = \"Data/train.csv\"\n",
    "\n",
    "# Load datasets\n",
    "anime_df = pd.read_csv(anime_path)\n",
    "ratings_df = pd.read_csv(ratings_path)\n",
    "test_df = pd.read_csv(test_path)\n",
    "train_df = pd.read_csv(train_path)\n",
    "\n",
    "\n",
    "print(\"Datasets successfully loaded! ✅\")"
   ]
  }
 ],
 "metadata": {
  "language_info": {
   "name": "python"
  }
 },
 "nbformat": 4,
 "nbformat_minor": 2
}
